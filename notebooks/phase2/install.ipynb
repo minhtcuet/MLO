{
 "cells": [
  {
   "cell_type": "code",
   "execution_count": null,
   "id": "59eaec45",
   "metadata": {},
   "outputs": [],
   "source": [
    "Flask==2.3.2\n",
    "Flask-Cors==3.0.10\n",
    "json-logging==1.3.0\n",
    "pandas==2.0.1\n",
    "loguru==0.7.0\n",
    "Cerberus==1.3.4\n",
    "numpy==1.24.3\n",
    "jsonpath-rw==1.4.0\n",
    "optbinning==0.13.0\n",
    "gunicorn==20.1.0\n",
    "dill==0.3.6\n",
    "catboost==1.2\n",
    "fastapi==0.99.0\n",
    "uvicorn==0.22.0\n",
    "cachetools==5.3.1"
   ]
  },
  {
   "cell_type": "code",
   "execution_count": 1,
   "id": "fdf466a2",
   "metadata": {},
   "outputs": [
    {
     "name": "stdout",
     "output_type": "stream",
     "text": [
      "Collecting cython\n",
      "  Using cached Cython-0.29.36-py2.py3-none-any.whl (988 kB)\n",
      "Installing collected packages: cython\n",
      "Successfully installed cython-0.29.36\n"
     ]
    },
    {
     "name": "stderr",
     "output_type": "stream",
     "text": [
      "\n",
      "[notice] A new release of pip is available: 23.0.1 -> 23.2\n",
      "[notice] To update, run: python.exe -m pip install --upgrade pip\n"
     ]
    }
   ],
   "source": [
    "!pip install cython"
   ]
  },
  {
   "cell_type": "code",
   "execution_count": 2,
   "id": "382e3446",
   "metadata": {},
   "outputs": [],
   "source": [
    "%load_ext Cython"
   ]
  },
  {
   "cell_type": "code",
   "execution_count": 3,
   "id": "80e1c58b",
   "metadata": {},
   "outputs": [],
   "source": [
    "%%cython\n",
    "def add_numbers(a, b):\n",
    "    return a + b\n"
   ]
  },
  {
   "cell_type": "code",
   "execution_count": null,
   "id": "f2a5b818",
   "metadata": {},
   "outputs": [],
   "source": []
  }
 ],
 "metadata": {
  "kernelspec": {
   "display_name": "Python 3 (ipykernel)",
   "language": "python",
   "name": "python3"
  },
  "language_info": {
   "codemirror_mode": {
    "name": "ipython",
    "version": 3
   },
   "file_extension": ".py",
   "mimetype": "text/x-python",
   "name": "python",
   "nbconvert_exporter": "python",
   "pygments_lexer": "ipython3",
   "version": "3.10.4"
  }
 },
 "nbformat": 4,
 "nbformat_minor": 5
}
