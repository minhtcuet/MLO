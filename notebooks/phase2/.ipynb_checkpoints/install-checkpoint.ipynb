{
 "cells": [
  {
   "cell_type": "code",
   "execution_count": null,
   "id": "59eaec45",
   "metadata": {},
   "outputs": [],
   "source": [
    "Flask==2.3.2\n",
    "Flask-Cors==3.0.10\n",
    "json-logging==1.3.0\n",
    "pandas==2.0.1\n",
    "loguru==0.7.0\n",
    "Cerberus==1.3.4\n",
    "numpy==1.24.3\n",
    "jsonpath-rw==1.4.0\n",
    "optbinning==0.13.0\n",
    "gunicorn==20.1.0\n",
    "dill==0.3.6\n",
    "catboost==1.2\n",
    "fastapi==0.99.0\n",
    "uvicorn==0.22.0\n",
    "cachetools==5.3.1"
   ]
  }
 ],
 "metadata": {
  "kernelspec": {
   "display_name": "Python 3 (ipykernel)",
   "language": "python",
   "name": "python3"
  },
  "language_info": {
   "codemirror_mode": {
    "name": "ipython",
    "version": 3
   },
   "file_extension": ".py",
   "mimetype": "text/x-python",
   "name": "python",
   "nbconvert_exporter": "python",
   "pygments_lexer": "ipython3",
   "version": "3.10.4"
  }
 },
 "nbformat": 4,
 "nbformat_minor": 5
}
